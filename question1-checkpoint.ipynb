{
 "cells": [
  {
   "cell_type": "code",
   "execution_count": 1,
   "id": "aaa16764",
   "metadata": {},
   "outputs": [
    {
     "name": "stdout",
     "output_type": "stream",
     "text": [
      "['He is good boy', 'He is an awesome player', 'She is the best', 'These burgers are really nice']\n",
      "['Food is worst here', 'The pizza tastes awful']\n"
     ]
    }
   ],
   "source": [
    "#1\n",
    "p=['good','best','awesome','nice']\n",
    "n=['worst','awful']\n",
    "pl=[]\n",
    "nl=[]\n",
    "c=['He is good boy','Food is worst here','He is an awesome player','She is the best','The pizza tastes awful','These burgers are really nice']\n",
    "for j in range(0,1):    \n",
    "    for i in range(0,len(c)):\n",
    "        if p[j] in c[i] or p[j+1] in c[i] or p[j+2] in c[i] or p[j+3] in c[i]:\n",
    "            pl.append(c[i])\n",
    "        elif n[j] in c[i] or n[j+1] in c[i]:\n",
    "            nl.append(c[i])\n",
    "print(pl)\n",
    "print(nl)"
   ]
  }
 ],
 "metadata": {
  "kernelspec": {
   "display_name": "Python 3 (ipykernel)",
   "language": "python",
   "name": "python3"
  },
  "language_info": {
   "codemirror_mode": {
    "name": "ipython",
    "version": 3
   },
   "file_extension": ".py",
   "mimetype": "text/x-python",
   "name": "python",
   "nbconvert_exporter": "python",
   "pygments_lexer": "ipython3",
   "version": "3.9.7"
  }
 },
 "nbformat": 4,
 "nbformat_minor": 5
}
